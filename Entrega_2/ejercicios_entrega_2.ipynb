{
 "cells": [
  {
   "cell_type": "markdown",
   "metadata": {},
   "source": [
    "Nombre: Samuel\\\n",
    "Apellidos: Martín Morales\\\n",
    "Correo: alu0101359526@ull.edu.es"
   ]
  },
  {
   "cell_type": "markdown",
   "metadata": {},
   "source": [
    "Ejercicio 1: crear una función que nos ayude a calcular el valor\\\n",
    "de una resistencia sin tener que memorizar los valores de las bandas. Para ello,\\\n",
    "la función decodificar recibe como parámetros los nombres de los colores de una\\\n",
    "resistencia almacenados en una lista como entrada y devuelve un número de dos\\\n",
    "cifras indicando el valor de la resistencia. Las bandas de colores están codificadas\\\n",
    "de la siguiente manera. De este modo, la combinación [“Marrón”, “Verde”] deberı́a\\\n",
    "devolver 15."
   ]
  },
  {
   "cell_type": "code",
   "execution_count": 7,
   "metadata": {},
   "outputs": [
    {
     "name": "stdout",
     "output_type": "stream",
     "text": [
      "Introduzca por teclado el color de la resistencia al cúal quiere comprobar su valor: \n",
      "\n",
      "¿Quiere seguir introduciendo resistencias? (S/N): \n",
      "Introduzca por teclado el color de la resistencia al cúal quiere comprobar su valor: \n",
      "\n",
      "¿Quiere seguir introduciendo resistencias? (S/N): \n",
      "Introduzca por teclado el color de la resistencia al cúal quiere comprobar su valor: \n",
      "\n",
      "¿Quiere seguir introduciendo resistencias? (S/N): \n",
      "\n",
      "La lista de resistencias que quiere comprobar es: \n",
      "['Marrón', 'Verde', 'Azul']\n",
      "\n",
      "1\n",
      "5\n",
      "6\n"
     ]
    }
   ],
   "source": [
    "def resistence_fuction(colour):\n",
    "    print(resistence[colour])\n",
    "\n",
    "resistence = {\n",
    "    \"Negro\" : 0,\n",
    "    \"Marrón\" : 1,\n",
    "    \"Rojo\" : 2,\n",
    "    \"Naranja\" : 3,\n",
    "    \"Amarillo\" : 4,\n",
    "    \"Verde\" : 5,\n",
    "    \"Azul\" : 6,\n",
    "    \"Violeta\" : 7,\n",
    "    \"Gris\" : 8,\n",
    "    \"Blanco\" : 9\n",
    "}\n",
    "\n",
    "colour_list = []    # Declaración del vector\n",
    "answer = \"S\"\n",
    "\n",
    "while answer != \"N\":\n",
    "    print(\"Introduzca por teclado el color de la resistencia la cúal quiere comprobar su valor: \")\n",
    "    aux = input()\n",
    "    colour_list.append(aux)\n",
    "    print()\n",
    "    print(\"¿Quiere seguir introduciendo resistencias? (S/N): \")\n",
    "    answer = input()\n",
    "    \n",
    "print()\n",
    "print(\"La lista de resistencias que quiere comprobar es: \")\n",
    "print(colour_list)\n",
    "print()\n",
    "\n",
    "for i in range(len(colour_list)):\n",
    "    resistence_fuction(colour_list[i])\n",
    "\n",
    "\n",
    "\n"
   ]
  },
  {
   "cell_type": "markdown",
   "metadata": {},
   "source": [
    "Ejercicio 2: Cree una función es bisiesto que devuelva si un año concreto es bisiesto o no.\\\n",
    "La función deberá recibir como parámetro el año a evaluar y devolverá verdadero o\\\n",
    "falso según corresponda."
   ]
  },
  {
   "cell_type": "code",
   "execution_count": 25,
   "metadata": {},
   "outputs": [
    {
     "name": "stdout",
     "output_type": "stream",
     "text": [
      "Introduce el año que se quiere comprobar si se trata de un año bisiesto: \n",
      "El año 1900 no es bisiesto.\n"
     ]
    }
   ],
   "source": [
    "def is_leap(year_number):\n",
    "    if (year_number % 4) == 0:\n",
    "        if (year_number % 100) == 0:\n",
    "           if (year_number % 400) == 0:\n",
    "             return True\n",
    "           else:\n",
    "               return False\n",
    "           return True\n",
    "        return True  \n",
    "    else:\n",
    "        return False            \n",
    "    \n",
    "print(\"Introduce el año que se quiere comprobar si se trata de un año bisiesto: \")\n",
    "year = input()\n",
    "\n",
    "year = int(year)    # Convertimos la cadena introducida por teclado a entero\n",
    "\n",
    "leap = is_leap(year)\n",
    "\n",
    "if leap == True:\n",
    "    print(f\"El año {year} es bisiesto.\")\n",
    "else:\n",
    "    print(f\"El año {year} no es bisiesto.\")\n",
    "    "
   ]
  },
  {
   "cell_type": "markdown",
   "metadata": {},
   "source": [
    "Ejercicio 3: modificar la función es bisiesto para que funcione\\\n",
    "de la siguiente manera. La función deberá recibir como parámetro una lista con\\\n",
    "distintos años en formato de cadena de texto y devolverá un diccionario donde\\\n",
    "las claves serás las cadenas de texto que representan los distintos años en la lista y\\\n",
    "las claves verdadero o falso según corresponda."
   ]
  },
  {
   "cell_type": "code",
   "execution_count": 30,
   "metadata": {},
   "outputs": [
    {
     "name": "stdout",
     "output_type": "stream",
     "text": [
      "Introduzca por teclado los años que quiere introducir en el diccionario\n",
      "\n",
      "¿Quiere seguir introduciendo resistencias? (S/N): \n",
      "Introduzca por teclado los años que quiere introducir en el diccionario\n",
      "\n",
      "¿Quiere seguir introduciendo resistencias? (S/N): \n",
      "El diccionario resultante es:\n",
      "dict_keys(['1900', '2000'])\n",
      "dict_values([True, True])\n"
     ]
    }
   ],
   "source": [
    "def is_leap(year_number):\n",
    "    year_number = int(year_number)\n",
    "    if (year_number % 4) == 0:\n",
    "        if (year_number % 100) == 0:\n",
    "           if (year_number % 400) == 0:\n",
    "             year_number = str(year_number)\n",
    "             year_dictionary[year_number] = True\n",
    "           else:\n",
    "               year_number = str(year_number)\n",
    "               year_dictionary[year_number] = False\n",
    "           year_number = str(year_number)\n",
    "           year_dictionary[year_number] = True\n",
    "        year_number = str(year_number)\n",
    "        year_dictionary[year_number] = True  \n",
    "    else:\n",
    "        year_number = str(year_number)\n",
    "        year_dictionary[year_number] = False\n",
    "    \n",
    "year_dictionary = {    # Declaración del diccionario\n",
    "}\n",
    "year_list = []  # Declaración del vector\n",
    "answer = \"S\"\n",
    "\n",
    "while answer != \"N\":\n",
    "    print(\"Introduzca por teclado los años que quiere introducir en el diccionario\")\n",
    "    aux = input()\n",
    "    year_list.append(aux)\n",
    "    print()\n",
    "    print(\"¿Quiere seguir introduciendo resistencias? (S/N): \")\n",
    "    answer = input()\n",
    "    \n",
    "for i in range(len(year_list)):\n",
    "    is_leap(year_list[i])\n",
    "    \n",
    "print(\"El diccionario resultante es:\")\n",
    "print(year_dictionary.keys())\n",
    "print(year_dictionary.values())"
   ]
  }
 ],
 "metadata": {
  "interpreter": {
   "hash": "31f2aee4e71d21fbe5cf8b01ff0e069b9275f58929596ceb00d14d90e3e16cd6"
  },
  "kernelspec": {
   "display_name": "Python 3.6.9 64-bit",
   "language": "python",
   "name": "python3"
  },
  "language_info": {
   "codemirror_mode": {
    "name": "ipython",
    "version": 3
   },
   "file_extension": ".py",
   "mimetype": "text/x-python",
   "name": "python",
   "nbconvert_exporter": "python",
   "pygments_lexer": "ipython3",
   "version": "3.6.9"
  },
  "orig_nbformat": 4
 },
 "nbformat": 4,
 "nbformat_minor": 2
}

{
 "cells": [
  {
   "cell_type": "markdown",
   "metadata": {},
   "source": [
    "Nombre: Samuel\\\n",
    "Apellidos: Martín Morales\\\n",
    "Correo: alu0101359526@ull.edu.es"
   ]
  },
  {
   "cell_type": "markdown",
   "metadata": {},
   "source": [
    "LISTAS EN PYTHON"
   ]
  },
  {
   "cell_type": "code",
   "execution_count": 3,
   "metadata": {},
   "outputs": [
    {
     "name": "stdout",
     "output_type": "stream",
     "text": [
      "a\n",
      "3\n"
     ]
    }
   ],
   "source": [
    "lista = [\"a\",\"b\",\"c\"]   # Las listas en python son muy similares a los vectores de c++\n",
    "# La lista o vector a su vez tiene una serie de índices o posiciones accesibles\n",
    "\n",
    "# Para poder acceder a una posición determinada de la lista o vector, se realiza de la manera:\n",
    "print(lista[0])\n",
    "\n",
    "# Si a su vez se quiere mostrar por pantalla la longitud de la lista o vector, se puede realizar con la función len de la manera:\n",
    "print(len(lista))"
   ]
  },
  {
   "cell_type": "markdown",
   "metadata": {},
   "source": [
    "Ejercicio 1: Crear una lista con los días de la semana. Imprimir el día de la posición 3 y su tamaño."
   ]
  },
  {
   "cell_type": "code",
   "execution_count": 13,
   "metadata": {},
   "outputs": [
    {
     "name": "stdout",
     "output_type": "stream",
     "text": [
      "Jueves\n",
      "7\n"
     ]
    }
   ],
   "source": [
    "dias_semana = [\"Lunes\",\"Martes\",\"Miércoles\",\"Jueves\",\"Viernes\",\"Sábado\",\"domingo\"]\n",
    "\n",
    "# Impresión de la posición 3 de la lista\n",
    "print(dias_semana[3])\n",
    "\n",
    "# Impresión del tamaño de la lista\n",
    "print(len(dias_semana)) "
   ]
  },
  {
   "cell_type": "markdown",
   "metadata": {},
   "source": [
    "Ejercicio 2: crear una lista con cadena de texto, otra con un entero, un booleano true, un flotante y un booleano false. Mostrar el valor de la primera posición."
   ]
  },
  {
   "cell_type": "code",
   "execution_count": 7,
   "metadata": {},
   "outputs": [
    {
     "name": "stdout",
     "output_type": "stream",
     "text": [
      "['samuel', 10, True, 15.0312, False]\n",
      "samuel\n"
     ]
    }
   ],
   "source": [
    "lista_aleatoria = [\"samuel\",10,True,15.0312,False]\n",
    "\n",
    "# Impresión de la lista\n",
    "print(lista_aleatoria)\n",
    "\n",
    "# Impresión de la primera posición de la lista\n",
    "print(lista_aleatoria[0])"
   ]
  },
  {
   "cell_type": "markdown",
   "metadata": {},
   "source": [
    "FUNCIÓN LIST EN PYTHON"
   ]
  },
  {
   "cell_type": "markdown",
   "metadata": {},
   "source": [
    "Se trata de una función que se encarga de construir una lista\\\n",
    "a partir de una serie de parámetros que son pasados a esta."
   ]
  },
  {
   "cell_type": "code",
   "execution_count": 8,
   "metadata": {},
   "outputs": [
    {
     "name": "stdout",
     "output_type": "stream",
     "text": [
      "[0, 1, 2, 3, 4, 5, 6, 7, 8, 9]\n"
     ]
    }
   ],
   "source": [
    "# Ejemplo de la función list\n",
    "example_list = list(range(10))\n",
    "\n",
    "print(example_list)"
   ]
  },
  {
   "cell_type": "markdown",
   "metadata": {},
   "source": [
    "Ejercicio 3: crear una lista con la función lista desde el 0 al 50 incluído de 5 en 5"
   ]
  },
  {
   "cell_type": "code",
   "execution_count": 9,
   "metadata": {},
   "outputs": [
    {
     "name": "stdout",
     "output_type": "stream",
     "text": [
      "[0, 5, 10, 15, 20, 25, 30, 35, 40, 45, 50]\n"
     ]
    }
   ],
   "source": [
    "range_list = list(range(0,51,5))\n",
    "\n",
    "print(range_list)"
   ]
  },
  {
   "cell_type": "markdown",
   "metadata": {},
   "source": [
    "Hay que tener en cuenta que a los elementos de la lista, se puede acceder con índices negativos,\\\n",
    "es decir, a través de los índices negativos, se puede acceder a los últimos elementos de la lista.\\\n",
    "Si se hace uso del índice -1, se accede al último elemento de la lista."
   ]
  },
  {
   "cell_type": "code",
   "execution_count": 11,
   "metadata": {},
   "outputs": [
    {
     "name": "stdout",
     "output_type": "stream",
     "text": [
      "50\n"
     ]
    }
   ],
   "source": [
    "# Para entender esto anterior\n",
    "negative_list = list(range(0,51,5))\n",
    "\n",
    "print(negative_list[-1])"
   ]
  },
  {
   "cell_type": "markdown",
   "metadata": {},
   "source": [
    "Ejercicio 4: Hacer uso de la lista de los días de la semana y acceder al elemento que se encuentra en la posición -5"
   ]
  },
  {
   "cell_type": "code",
   "execution_count": 14,
   "metadata": {},
   "outputs": [
    {
     "name": "stdout",
     "output_type": "stream",
     "text": [
      "Miércoles\n"
     ]
    }
   ],
   "source": [
    "# La variable días de la semana a sido declarada anteriormente\n",
    "print(dias_semana[-5])"
   ]
  },
  {
   "cell_type": "markdown",
   "metadata": {},
   "source": [
    "ACCESO A LOS ELEMENTOS DE UNA LISTA A TRAVÉS DE UN RANGO DE ÍNDICES"
   ]
  },
  {
   "cell_type": "code",
   "execution_count": 17,
   "metadata": {},
   "outputs": [
    {
     "name": "stdout",
     "output_type": "stream",
     "text": [
      "[0, 5, 10, 15]\n",
      "[10, 15, 20, 25]\n"
     ]
    }
   ],
   "source": [
    "# Esto anteriormente especificado se realiza de la manera\n",
    "\n",
    "print(range_list[0:4])\n",
    "print(range_list[2:6])"
   ]
  },
  {
   "cell_type": "markdown",
   "metadata": {},
   "source": [
    "Ejercicio 5: mostrar la lista de los días de la semana y mostrar las posiciónes 2 y 5 (sin incluir)"
   ]
  },
  {
   "cell_type": "code",
   "execution_count": 18,
   "metadata": {},
   "outputs": [
    {
     "name": "stdout",
     "output_type": "stream",
     "text": [
      "['Miércoles', 'Jueves', 'Viernes']\n"
     ]
    }
   ],
   "source": [
    "# Esta variable ha sido declarada anteriormente\n",
    "print(dias_semana[2:5])"
   ]
  },
  {
   "cell_type": "markdown",
   "metadata": {},
   "source": [
    "Unos ejemplos de uso de los accesos a los elementos de una lista, puede ser:"
   ]
  },
  {
   "cell_type": "code",
   "execution_count": 20,
   "metadata": {},
   "outputs": [
    {
     "name": "stdout",
     "output_type": "stream",
     "text": [
      "[20, 25, 30, 35, 40, 45, 50]\n",
      "[0, 5, 10, 15, 20, 25, 30]\n"
     ]
    }
   ],
   "source": [
    "print(range_list[4:])   # Para que muestre los elementos que están a la derecha de dicha posición\n",
    "print(range_list[:7])   # Para que muestre los elementos que están a la izquierda de dicha posición"
   ]
  },
  {
   "cell_type": "markdown",
   "metadata": {},
   "source": [
    "Ejercicio 6: Mostrar a partir de la posición 2 y los elementos antes de la posición de los días de la semana"
   ]
  },
  {
   "cell_type": "code",
   "execution_count": 21,
   "metadata": {},
   "outputs": [
    {
     "name": "stdout",
     "output_type": "stream",
     "text": [
      "['Miércoles', 'Jueves', 'Viernes', 'Sábado', 'domingo']\n",
      "['Lunes', 'Martes', 'Miércoles', 'Jueves', 'Viernes']\n"
     ]
    }
   ],
   "source": [
    "print(dias_semana[2:])\n",
    "print(dias_semana[:5])"
   ]
  },
  {
   "cell_type": "markdown",
   "metadata": {},
   "source": [
    "COMPROBACIÓN DE QUE SI UN ELEMENTO SE ENCUENTRA DENTRO DE UNA LISTA"
   ]
  },
  {
   "cell_type": "code",
   "execution_count": 24,
   "metadata": {},
   "outputs": [
    {
     "name": "stdout",
     "output_type": "stream",
     "text": [
      "El elemento 10 se encuentra dentro de la lista\n",
      "El elemento 100 no se encuentra dentro de la lista\n"
     ]
    }
   ],
   "source": [
    "# Para esto anterior se hace uso del la sentencia in dentro de un condicional\n",
    "if 10 in range_list:\n",
    "    print(\"El elemento 10 se encuentra dentro de la lista\")\n",
    "\n",
    "if 100 not in range_list:   # Si se hace uso de la sentencia not in, indicamos que se ese elemento no se encuentra dentro de la lista\n",
    "    print(\"El elemento 100 no se encuentra dentro de la lista\") \n"
   ]
  },
  {
   "cell_type": "markdown",
   "metadata": {},
   "source": [
    "Ejercicio 7: comprobar si el elemento Martes se encuentra dentro de la lista y si el elemento febrero no se encuentra"
   ]
  },
  {
   "cell_type": "code",
   "execution_count": 23,
   "metadata": {},
   "outputs": [
    {
     "name": "stdout",
     "output_type": "stream",
     "text": [
      "El elemento Martes se encuentra dentro de la lista\n",
      "El elemento Febrero se encuentra dentro de la lista\n"
     ]
    }
   ],
   "source": [
    "if \"Martes\" in dias_semana:\n",
    "    print(\"El elemento Martes se encuentra dentro de la lista\")\n",
    "\n",
    "if \"Febrero\" not in dias_semana:\n",
    "    print(\"El elemento Febrero no se encuentra dentro de la lista\")"
   ]
  },
  {
   "cell_type": "markdown",
   "metadata": {},
   "source": [
    "Ejercicio 8: modificación de la lista de días de la semana"
   ]
  },
  {
   "cell_type": "code",
   "execution_count": 25,
   "metadata": {},
   "outputs": [
    {
     "name": "stdout",
     "output_type": "stream",
     "text": [
      "['Lunes', 100.23, 'Miércoles', 'Jueves', 'Viernes', 'Sábado', 'domingo']\n"
     ]
    }
   ],
   "source": [
    "dias_semana[1] = 100.23 # La modificación de cualquier elemento de la lista, se realiza accediendo a la posición concreta y modificando\n",
    "\n",
    "print(dias_semana)"
   ]
  },
  {
   "cell_type": "markdown",
   "metadata": {},
   "source": [
    "CAMBIAR LOS ELEMENTOS DE UNA LISTA SEGÚN UN RANGO"
   ]
  },
  {
   "cell_type": "code",
   "execution_count": 26,
   "metadata": {},
   "outputs": [
    {
     "name": "stdout",
     "output_type": "stream",
     "text": [
      "[0, 5, 500, 32, 20, 25, 30, 35, 40, 45, 50]\n"
     ]
    }
   ],
   "source": [
    "range_list[2:4] = [500,32]\n",
    "\n",
    "print(range_list)"
   ]
  },
  {
   "cell_type": "markdown",
   "metadata": {},
   "source": [
    "AÑADIR ELEMENTOS AL FINAL DE UNA LISTA YA EXISTENTE"
   ]
  },
  {
   "cell_type": "markdown",
   "metadata": {},
   "source": [
    "Ejercicio 9: Crear una lista entre el 0 y 100 sin incluir de 10 en 10. Añadir el elemento 250 al final de la lista."
   ]
  },
  {
   "cell_type": "code",
   "execution_count": 29,
   "metadata": {},
   "outputs": [
    {
     "name": "stdout",
     "output_type": "stream",
     "text": [
      "[0, 10, 20, 30, 40, 50, 60, 70, 80, 90]\n",
      "[0, 10, 20, 30, 40, 50, 60, 70, 80, 90, 250]\n"
     ]
    }
   ],
   "source": [
    "add_list = list(range(0,100,10))\n",
    "\n",
    "print(add_list)\n",
    "\n",
    "add_list.append(250)\n",
    "\n",
    "print(add_list)"
   ]
  },
  {
   "cell_type": "markdown",
   "metadata": {},
   "source": [
    "ELIMINAR ELEMENTOS DE UNA LISTA"
   ]
  },
  {
   "cell_type": "markdown",
   "metadata": {},
   "source": [
    "La función remove() permite eliminar un elemento determinado.\\\n",
    "La función pop() permite eliminar un elemento de una posición concreta de la lista."
   ]
  },
  {
   "cell_type": "code",
   "execution_count": 31,
   "metadata": {},
   "outputs": [
    {
     "name": "stdout",
     "output_type": "stream",
     "text": [
      "[0, 5, 500, 32, 20, 25, 30, 35, 40, 45]\n",
      "[0, 5, 500, 32, 20, 25, 30, 35, 40]\n"
     ]
    }
   ],
   "source": [
    "# Ejemplo para entender esto anterior\n",
    "range_list.remove(50)\n",
    "print(range_list)\n",
    "\n",
    "range_list.pop()\n",
    "print(range_list)"
   ]
  },
  {
   "cell_type": "markdown",
   "metadata": {},
   "source": [
    "Ejercicio 10: eliminar el elemento lunes, mostrar por pantalla y eliminar enero de la lista"
   ]
  },
  {
   "cell_type": "code",
   "execution_count": 32,
   "metadata": {},
   "outputs": [
    {
     "name": "stdout",
     "output_type": "stream",
     "text": [
      "[100.23, 'Miércoles', 'Jueves', 'Viernes', 'Sábado', 'domingo']\n"
     ]
    },
    {
     "ename": "ValueError",
     "evalue": "list.remove(x): x not in list",
     "output_type": "error",
     "traceback": [
      "\u001b[0;31m---------------------------------------------------------------------------\u001b[0m",
      "\u001b[0;31mValueError\u001b[0m                                Traceback (most recent call last)",
      "\u001b[0;32m<ipython-input-32-192e1f22a74c>\u001b[0m in \u001b[0;36m<module>\u001b[0;34m\u001b[0m\n\u001b[1;32m      2\u001b[0m \u001b[0mprint\u001b[0m\u001b[0;34m(\u001b[0m\u001b[0mdias_semana\u001b[0m\u001b[0;34m)\u001b[0m\u001b[0;34m\u001b[0m\u001b[0;34m\u001b[0m\u001b[0m\n\u001b[1;32m      3\u001b[0m \u001b[0;34m\u001b[0m\u001b[0m\n\u001b[0;32m----> 4\u001b[0;31m \u001b[0mdias_semana\u001b[0m\u001b[0;34m.\u001b[0m\u001b[0mremove\u001b[0m\u001b[0;34m(\u001b[0m\u001b[0;34m\"Enero\"\u001b[0m\u001b[0;34m)\u001b[0m\u001b[0;34m\u001b[0m\u001b[0;34m\u001b[0m\u001b[0m\n\u001b[0m\u001b[1;32m      5\u001b[0m \u001b[0;34m\u001b[0m\u001b[0m\n",
      "\u001b[0;31mValueError\u001b[0m: list.remove(x): x not in list"
     ]
    }
   ],
   "source": [
    "dias_semana.remove(\"Lunes\")\n",
    "print(dias_semana)\n",
    "\n",
    "dias_semana.remove(\"Enero\")\n",
    "\n"
   ]
  },
  {
   "cell_type": "markdown",
   "metadata": {},
   "source": [
    "Ejercicio 11: crear un rango de 0 a 100, eliminar el elemento de la posición 45, mostrar, eliminar el último elemento"
   ]
  },
  {
   "cell_type": "code",
   "execution_count": 34,
   "metadata": {},
   "outputs": [
    {
     "name": "stdout",
     "output_type": "stream",
     "text": [
      "[0, 1, 2, 3, 4, 5, 6, 7, 8, 9, 10, 11, 12, 13, 14, 15, 16, 17, 18, 19, 20, 21, 22, 23, 24, 25, 26, 27, 28, 29, 30, 31, 32, 33, 34, 35, 36, 37, 38, 39, 40, 41, 42, 43, 44, 46, 47, 48, 49, 50, 51, 52, 53, 54, 55, 56, 57, 58, 59, 60, 61, 62, 63, 64, 65, 66, 67, 68, 69, 70, 71, 72, 73, 74, 75, 76, 77, 78, 79, 80, 81, 82, 83, 84, 85, 86, 87, 88, 89, 90, 91, 92, 93, 94, 95, 96, 97, 98, 99]\n",
      "[0, 1, 2, 3, 4, 5, 6, 7, 8, 9, 10, 11, 12, 13, 14, 15, 16, 17, 18, 19, 20, 21, 22, 23, 24, 25, 26, 27, 28, 29, 30, 31, 32, 33, 34, 35, 36, 37, 38, 39, 40, 41, 42, 43, 44, 46, 47, 48, 49, 50, 51, 52, 53, 54, 55, 56, 57, 58, 59, 60, 61, 62, 63, 64, 65, 66, 67, 68, 69, 70, 71, 72, 73, 74, 75, 76, 77, 78, 79, 80, 81, 82, 83, 84, 85, 86, 87, 88, 89, 90, 91, 92, 93, 94, 95, 96, 97, 98]\n"
     ]
    }
   ],
   "source": [
    "range_list = list(range(0,100,1))\n",
    "\n",
    "range_list.pop(45)\n",
    "print(range_list)\n",
    "\n",
    "range_list.pop()\n",
    "print(range_list)"
   ]
  },
  {
   "cell_type": "markdown",
   "metadata": {},
   "source": [
    "ELIMINAR EL CONTENIDO DE UNA LISTA"
   ]
  },
  {
   "cell_type": "code",
   "execution_count": 35,
   "metadata": {},
   "outputs": [
    {
     "name": "stdout",
     "output_type": "stream",
     "text": [
      "[]\n"
     ]
    }
   ],
   "source": [
    "range_list.clear()  # Con la función clear se eliminan todos los elementos de una lista\n",
    "print(range_list)"
   ]
  },
  {
   "cell_type": "markdown",
   "metadata": {},
   "source": [
    "Ejercicio 11: recorrer todos los elementos de la lista de los días de la semana"
   ]
  },
  {
   "cell_type": "code",
   "execution_count": 39,
   "metadata": {},
   "outputs": [
    {
     "name": "stdout",
     "output_type": "stream",
     "text": [
      "100.23\n",
      "Miércoles\n",
      "Jueves\n",
      "Viernes\n",
      "Sábado\n",
      "domingo\n",
      "\n",
      "100.23\n",
      "Miércoles\n",
      "Jueves\n",
      "Viernes\n",
      "Sábado\n",
      "domingo\n"
     ]
    }
   ],
   "source": [
    "for i in dias_semana:   # Funciones for puestas de dos maneras, pero que devuelven el mismo resultado\n",
    "    print(i)\n",
    "    \n",
    "print()\n",
    "\n",
    "for j in range(len(dias_semana)):\n",
    "    print(dias_semana[j])"
   ]
  },
  {
   "cell_type": "markdown",
   "metadata": {},
   "source": [
    "ORDENACIÓN DE LOS ELEMENTOS DE UNA LISTA"
   ]
  },
  {
   "cell_type": "markdown",
   "metadata": {},
   "source": [
    "La ordenación de los elementos de una lista, se hace uso de la función sort()"
   ]
  },
  {
   "cell_type": "markdown",
   "metadata": {},
   "source": [
    "Ejercicio 12: crear una lista de 10 elementos y ordenarlos"
   ]
  },
  {
   "cell_type": "code",
   "execution_count": 41,
   "metadata": {},
   "outputs": [
    {
     "name": "stdout",
     "output_type": "stream",
     "text": [
      "[1, 4, 10, 50, 100]\n"
     ]
    }
   ],
   "source": [
    "range_list = [100,50,1,4,10,6,200,80,90,0]\n",
    "range_list.sort()\n",
    "print(range_list)\n"
   ]
  },
  {
   "cell_type": "markdown",
   "metadata": {},
   "source": [
    "Ejercicio 13: crear una lista y ordenarla en sentido inverso"
   ]
  },
  {
   "cell_type": "code",
   "execution_count": 42,
   "metadata": {},
   "outputs": [
    {
     "name": "stdout",
     "output_type": "stream",
     "text": [
      "[100, 50, 10, 4, 1]\n"
     ]
    }
   ],
   "source": [
    "range_list = [100,50,1,4,10,6,200,80,90,0]\n",
    "range_list.sort(reverse=True)\n",
    "print(range_list)"
   ]
  },
  {
   "cell_type": "markdown",
   "metadata": {},
   "source": [
    "DAR LA VUELTA A LOS ELEMENTOS DE UNA LISTA CREADA"
   ]
  },
  {
   "cell_type": "markdown",
   "metadata": {},
   "source": [
    "Ejercicio 14: hacer uso de la lista creada y darle la vuelta a los elementos de esta"
   ]
  },
  {
   "cell_type": "code",
   "execution_count": 44,
   "metadata": {},
   "outputs": [
    {
     "name": "stdout",
     "output_type": "stream",
     "text": [
      "[0, 90, 80, 200, 6, 10, 4, 1, 50, 100]\n"
     ]
    }
   ],
   "source": [
    "range_list = [100,50,1,4,10,6,200,80,90,0]\n",
    "range_list.reverse()\n",
    "print(range_list)"
   ]
  },
  {
   "cell_type": "markdown",
   "metadata": {},
   "source": [
    "UNIR DOS LISTAS PARA CREAR UNA ÚNICA LISTA"
   ]
  },
  {
   "cell_type": "markdown",
   "metadata": {},
   "source": [
    "Ejercicio 15: crear dos lista, unirlas e imprimir"
   ]
  },
  {
   "cell_type": "code",
   "execution_count": 45,
   "metadata": {},
   "outputs": [
    {
     "name": "stdout",
     "output_type": "stream",
     "text": [
      "[100, 50, 1, 4, 10, 6, 200, 80, 90, 0, 'hola', 'adiós']\n"
     ]
    }
   ],
   "source": [
    "range_list = [100,50,1,4,10,6,200,80,90,0]\n",
    "range_list_1 = [\"hola\",\"adiós\"]\n",
    "\n",
    "result = range_list + range_list_1\n",
    "print(result)"
   ]
  },
  {
   "cell_type": "markdown",
   "metadata": {},
   "source": [
    "DICCIONARIOS"
   ]
  },
  {
   "cell_type": "markdown",
   "metadata": {},
   "source": [
    "Un diccionario en python se trata de una tabla hash de c++, es decir, por cada valor,\\\n",
    "existe una única clave dónde va a ser introducido ese valor"
   ]
  },
  {
   "cell_type": "code",
   "execution_count": 49,
   "metadata": {},
   "outputs": [
    {
     "name": "stdout",
     "output_type": "stream",
     "text": [
      "Ford\n",
      "[1, 2, 3]\n"
     ]
    }
   ],
   "source": [
    "diccionario = {\n",
    "    \"marca\": \"Ford\",\n",
    "    \"año\": 2021,\n",
    "    \"colores\": [1,2,3]\n",
    "}\n",
    "\n",
    "print(diccionario[\"marca\"])\n",
    "print(diccionario[\"colores\"])"
   ]
  },
  {
   "cell_type": "markdown",
   "metadata": {},
   "source": [
    "Ejercicio 16: crear un diccionario con los datos de una persona"
   ]
  },
  {
   "cell_type": "code",
   "execution_count": 50,
   "metadata": {},
   "outputs": [
    {
     "name": "stdout",
     "output_type": "stream",
     "text": [
      "True\n"
     ]
    }
   ],
   "source": [
    "new_person = {\n",
    "    \"Nombre\": \"Samuel\",\n",
    "    \"Apellidos\": [\"Martín\",\"Morales\"],\n",
    "    \"Edad\": 20,\n",
    "    \"Altura\": 180,\n",
    "    \"Estudiante\": True\n",
    "}\n",
    "\n",
    "print(new_person[\"Estudiante\"])"
   ]
  },
  {
   "cell_type": "markdown",
   "metadata": {},
   "source": [
    "Acceder a todas las claves de un diccionario\n"
   ]
  },
  {
   "cell_type": "markdown",
   "metadata": {},
   "source": [
    "Ejercicio 17: mostrar todas las claves de un diccionario"
   ]
  },
  {
   "cell_type": "code",
   "execution_count": 51,
   "metadata": {},
   "outputs": [
    {
     "name": "stdout",
     "output_type": "stream",
     "text": [
      "dict_keys(['Nombre', 'Apellidos', 'Edad', 'Altura', 'Estudiante'])\n"
     ]
    }
   ],
   "source": [
    "print(new_person.keys())"
   ]
  },
  {
   "cell_type": "markdown",
   "metadata": {},
   "source": [
    "Ejercicio 17: incluir un nuevo elemento en un diccionario"
   ]
  },
  {
   "cell_type": "code",
   "execution_count": 52,
   "metadata": {},
   "outputs": [
    {
     "name": "stdout",
     "output_type": "stream",
     "text": [
      "dict_keys(['Nombre', 'Apellidos', 'Edad', 'Altura', 'Estudiante'])\n",
      "dict_keys(['Nombre', 'Apellidos', 'Edad', 'Altura', 'Estudiante', 'Color_favorito'])\n"
     ]
    }
   ],
   "source": [
    "print(new_person.keys())\n",
    "\n",
    "new_person[\"Color_favorito\"] = \"Naranja\"    # De esta manera se crea una nueva clave junto con su valor\n",
    "\n",
    "print(new_person.keys())"
   ]
  },
  {
   "cell_type": "markdown",
   "metadata": {},
   "source": [
    "Ejercicio 18: imprimir los valores del diccionario creado"
   ]
  },
  {
   "cell_type": "code",
   "execution_count": 53,
   "metadata": {},
   "outputs": [
    {
     "name": "stdout",
     "output_type": "stream",
     "text": [
      "dict_values(['Samuel', ['Martín', 'Morales'], 20, 180, True, 'Naranja'])\n"
     ]
    }
   ],
   "source": [
    "print(new_person.values())"
   ]
  },
  {
   "cell_type": "markdown",
   "metadata": {},
   "source": [
    "BUSCAR UNA CLAVE DENTRO DE UN DICCIONARIO"
   ]
  },
  {
   "cell_type": "code",
   "execution_count": 54,
   "metadata": {},
   "outputs": [
    {
     "name": "stdout",
     "output_type": "stream",
     "text": [
      "La clave se encuentra dentro del diccionario\n"
     ]
    }
   ],
   "source": [
    "if \"Nombre\" in new_person:\n",
    "    print(\"La clave se encuentra dentro del diccionario\")"
   ]
  },
  {
   "cell_type": "markdown",
   "metadata": {},
   "source": [
    "Ejercicio 19: Añadir un elemento al diccionario con clave musica favorita"
   ]
  },
  {
   "cell_type": "code",
   "execution_count": 55,
   "metadata": {},
   "outputs": [
    {
     "name": "stdout",
     "output_type": "stream",
     "text": [
      "dict_keys(['Nombre', 'Apellidos', 'Edad', 'Altura', 'Estudiante', 'Color_favorito', 'Musica_favorita'])\n",
      "dict_values(['Samuel', ['Martín', 'Morales'], 20, 180, True, 'Naranja', 'Electro'])\n"
     ]
    }
   ],
   "source": [
    "new_person[\"Musica_favorita\"] = \"Electro\"\n",
    "\n",
    "print(new_person.keys())\n",
    "print(new_person.values())"
   ]
  },
  {
   "cell_type": "markdown",
   "metadata": {},
   "source": [
    "BORRAR CLAVES DE UN DICCIONARIO"
   ]
  },
  {
   "cell_type": "markdown",
   "metadata": {},
   "source": [
    "Ejercicio 20: borrar el nombre de un diccionario, borrar el último elemento y limpiar el diccionario"
   ]
  },
  {
   "cell_type": "code",
   "execution_count": 60,
   "metadata": {},
   "outputs": [
    {
     "name": "stdout",
     "output_type": "stream",
     "text": [
      "dict_keys(['Apellidos', 'Edad', 'Altura', 'Estudiante'])\n",
      "dict_keys(['Apellidos', 'Edad', 'Altura'])\n",
      "dict_keys([])\n"
     ]
    }
   ],
   "source": [
    "new_person = {\n",
    "    \"Nombre\": \"Samuel\",\n",
    "    \"Apellidos\": [\"Martín\",\"Morales\"],\n",
    "    \"Edad\": 20,\n",
    "    \"Altura\": 180,\n",
    "    \"Estudiante\": True\n",
    "}\n",
    "\n",
    "new_person.pop(\"Nombre\")\n",
    "print(new_person.keys())\n",
    "\n",
    "new_person.pop(\"Estudiante\")\n",
    "print(new_person.keys())\n",
    "\n",
    "new_person.clear()\n",
    "print(new_person.keys())"
   ]
  },
  {
   "cell_type": "markdown",
   "metadata": {},
   "source": [
    "RECORRER LOS VALORES DE UN DICCIONARIO"
   ]
  },
  {
   "cell_type": "markdown",
   "metadata": {},
   "source": [
    "Ejercicio 21: realizar un for que muestre todas las claves"
   ]
  },
  {
   "cell_type": "code",
   "execution_count": 59,
   "metadata": {},
   "outputs": [
    {
     "name": "stdout",
     "output_type": "stream",
     "text": [
      "Samuel\n",
      "['Martín', 'Morales']\n",
      "20\n",
      "180\n",
      "True\n"
     ]
    }
   ],
   "source": [
    "new_person = {\n",
    "    \"Nombre\": \"Samuel\",\n",
    "    \"Apellidos\": [\"Martín\",\"Morales\"],\n",
    "    \"Edad\": 20,\n",
    "    \"Altura\": 180,\n",
    "    \"Estudiante\": True\n",
    "}\n",
    "\n",
    "for i in new_person:\n",
    "    print(new_person[i])"
   ]
  },
  {
   "cell_type": "markdown",
   "metadata": {},
   "source": [
    "**FUNCIONES EN PYTHON**"
   ]
  },
  {
   "cell_type": "markdown",
   "metadata": {},
   "source": [
    "En python las funciones se declaran con la palabra clave **def**.\\\n",
    "Ejemplo para entender esto:"
   ]
  },
  {
   "cell_type": "code",
   "execution_count": 62,
   "metadata": {},
   "outputs": [
    {
     "name": "stdout",
     "output_type": "stream",
     "text": [
      "Hola\n"
     ]
    }
   ],
   "source": [
    "def example_fuction():\n",
    "    print(\"Hola\")\n",
    "    \n",
    "example_fuction()"
   ]
  },
  {
   "cell_type": "markdown",
   "metadata": {},
   "source": [
    "Ejercicio 22: crear un función que devuelva hola y mi nombre"
   ]
  },
  {
   "cell_type": "code",
   "execution_count": 63,
   "metadata": {},
   "outputs": [
    {
     "name": "stdout",
     "output_type": "stream",
     "text": [
      "Hola, me llamo Samuel\n"
     ]
    }
   ],
   "source": [
    "def name_fuction():\n",
    "    print(\"Hola, me llamo Samuel\")\n",
    "    \n",
    "name_fuction()"
   ]
  },
  {
   "cell_type": "markdown",
   "metadata": {},
   "source": [
    "Ejercicio 23: paso de parámetros a una función"
   ]
  },
  {
   "cell_type": "code",
   "execution_count": 64,
   "metadata": {},
   "outputs": [
    {
     "name": "stdout",
     "output_type": "stream",
     "text": [
      "El resultado de la operación es 4\n"
     ]
    }
   ],
   "source": [
    "def name_fuction(number):\n",
    "    result = number + 1\n",
    "    print(f\"El resultado de la operación es {result}\")\n",
    "    \n",
    "name_fuction(3)"
   ]
  },
  {
   "cell_type": "markdown",
   "metadata": {},
   "source": [
    "**Uso de return en la salida de las funciones:**"
   ]
  },
  {
   "cell_type": "code",
   "execution_count": 66,
   "metadata": {},
   "outputs": [
    {
     "name": "stdout",
     "output_type": "stream",
     "text": [
      "El resultado de la operación es: 2.5\n"
     ]
    }
   ],
   "source": [
    "def example_fuction(number = 5):\n",
    "    result = number / 2\n",
    "    return result\n",
    "\n",
    "message = example_fuction()\n",
    "print(f\"El resultado de la operación es: {message}\")"
   ]
  }
 ],
 "metadata": {
  "interpreter": {
   "hash": "31f2aee4e71d21fbe5cf8b01ff0e069b9275f58929596ceb00d14d90e3e16cd6"
  },
  "kernelspec": {
   "display_name": "Python 3.6.9 64-bit",
   "language": "python",
   "name": "python3"
  },
  "language_info": {
   "codemirror_mode": {
    "name": "ipython",
    "version": 3
   },
   "file_extension": ".py",
   "mimetype": "text/x-python",
   "name": "python",
   "nbconvert_exporter": "python",
   "pygments_lexer": "ipython3",
   "version": "3.6.9"
  },
  "orig_nbformat": 4
 },
 "nbformat": 4,
 "nbformat_minor": 2
}

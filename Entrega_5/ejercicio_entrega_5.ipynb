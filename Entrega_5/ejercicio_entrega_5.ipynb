{
 "cells": [
  {
   "cell_type": "markdown",
   "metadata": {},
   "source": [
    "Nombre: Samuel\\\n",
    "Apellidos: Martín Morales\\\n",
    "Correo: alu0101359526@ull.edu.es"
   ]
  },
  {
   "cell_type": "markdown",
   "metadata": {},
   "source": [
    "### Ejercicio 1\n",
    "¿Cómo se ejecuta un main en Python?"
   ]
  },
  {
   "cell_type": "markdown",
   "metadata": {},
   "source": [
    "En un programa desarrollado en lenguaje Python, cuando se hace uso de la sentencia \" **if __name__ == '__main__'** \", esto indica que esto se trata de la función principal o main\\\n",
    "del programa, es decir, en esta función se va a encontrar el código que va a ser ejecutado de tal manera que va a hacer uso de las clases, las funciones, etc. Que han sido declaradas\\\n",
    "anteriormente y que deben de ser usadas y ejecutadas de la forma que queda específicada en la función principal del programa."
   ]
  },
  {
   "cell_type": "markdown",
   "metadata": {},
   "source": [
    "### Ejercicio 2\n",
    "¿Qué es la inteligencia artificial? ¿En qué se diferencia de deep learning?"
   ]
  },
  {
   "cell_type": "markdown",
   "metadata": {},
   "source": [
    "La inteligencia artificial se trata de la inteligencia o conocimiento expresado por máquinas, procesadores, etc, que tienen un comportamiento o\\\n",
    "que intenta comportarse de manera similar a la que la realizaría un ser humano. En cambio, el deep learning se trata de una rama de la\\\n",
    "inteligencia artifical que se basa principalmente en una serie de algoritmos que intentan emular o imitar el aprendizaje que\\\n",
    "puede realizar un ser humano."
   ]
  },
  {
   "cell_type": "markdown",
   "metadata": {},
   "source": [
    "### Ejercicio 3\n",
    "¿Para qué sirve el Web Scraping?"
   ]
  },
  {
   "cell_type": "markdown",
   "metadata": {},
   "source": [
    "El web scraping se trata de una técnica que se usa mediante la codificación de programas que se encargan de extraer información\\\n",
    "de sitios web, haciendo uso de programas que navegan por estos sitios web de manera similar a la que la realizaría un ser humano\\\n",
    "para que a continuación hagan uso de la información contenidas en estas páginas web."
   ]
  },
  {
   "cell_type": "markdown",
   "metadata": {},
   "source": [
    "### Ejercicio 4\n",
    "¿En qué se diferencia usar técnicas de web scraping de una API?"
   ]
  },
  {
   "cell_type": "markdown",
   "metadata": {},
   "source": [
    "La diferencia que se encuentra entre usar técnicas de web scraping de una API se basa principalmente en que el web scraping se trata de ir a la página web\\\n",
    "hacer uso del código HTML y hacer uso de los datos de la página web de manera similar a la que los usaría un ser humano, en cambio una API (Aplication program interface),\\\n",
    "se trata de un conjunto de programas, funciones, subrutinas del sistema, que se puede usar para coger esos datos de las páginas web que se encuentran guardados en ficheros\\\n",
    "con formato txt,csv,etc, y hacer uso de esos datos de la manera en la que se querían usar. En conclusión, el web scraping recoge los datos mediante algoritmos que imitan\\\n",
    "el comportamiento de un ser humanos para la recogida de datos de una página web, en cambio el API hace uso de esos datos a partir de ficheros que ya contienen toda esa información."
   ]
  },
  {
   "cell_type": "markdown",
   "metadata": {},
   "source": [
    "### Ejercicio 5\n",
    "¿En qué se diferencia una regresión lineal de una red neuronal profunda?"
   ]
  },
  {
   "cell_type": "markdown",
   "metadata": {},
   "source": [
    "Un regresión lineal se trata de un modelo matemático, más concretamente un modelo estadístico, que a partir de una nube de puntos,\\\n",
    "es decir, a partir de un gran número de datos distintos, intenta obtener una aproximación lineal a todo el conjunto de datos dado, en cambio,\\\n",
    "un red neural profunda no deja de ser un tipo de algoritmo de Machine learning, es decir, se trata de un algoritmo que se encarga de \"aprender\"\\\n",
    "de manera similar a la que el ser humano realiza el aprendizaje."
   ]
  },
  {
   "cell_type": "markdown",
   "metadata": {},
   "source": [
    "### Ejercicio 6\n",
    "Plantea, como vimos en clase, cómo hacer un programa que realice el scraping de los hoteles de tenerife en Booking. Esto consiste en obtener el nombre, el municipio, la puntuación y el link, para cada hotel."
   ]
  },
  {
   "cell_type": "markdown",
   "metadata": {},
   "source": [
    "**1 )** Se debe de acceder a la Página web de Booking y realizar la búsqueda de hoteles en Tenerife, concretamente en: \n",
    "https://www.booking.com/searchresults.es.html?aid=376371&label=es-7U_4roJdLuR2f2r5FK27iQS267778198069%3Apl%3Ata%3Ap1%3Ap22.563.000%3Aac%3Aap%3Aneg%3Afi%3Atikwd-300238823508%3Alp9047034%3Ali%3Adec%3Adm%3Appccp%3DUmFuZG9tSVYkc2RlIyh9Ye8F2ouj63ytkBtrYs5TAfs&sid=94c0d46ca84359690c1cfa9783df1d35&sb=1&sb_lp=1&src=index&src_elem=sb&error_url=https%3A%2F%2Fwww.booking.com%2Findex.es.html%3Faid%3D376371%3Blabel%3Des-7U_4roJdLuR2f2r5FK27iQS267778198069%253Apl%253Ata%253Ap1%253Ap22.563.000%253Aac%253Aap%253Aneg%253Afi%253Atikwd-300238823508%253Alp9047034%253Ali%253Adec%253Adm%253Appccp%253DUmFuZG9tSVYkc2RlIyh9Ye8F2ouj63ytkBtrYs5TAfs%3Bsid%3D94c0d46ca84359690c1cfa9783df1d35%3Bsb_price_type%3Dtotal%26%3B&ss=Tenerife%2C+Espa%C3%B1a&is_ski_area=&checkin_year=&checkin_month=&checkout_year=&checkout_month=&group_adults=2&group_children=0&no_rooms=1&b_h4u_keep_filters=&from_sf=1&dest_id=777&dest_type=region&search_pageview_id=464556ef84d500a2&search_selected=true\n",
    "\n",
    "**2)** El nombre de los distintos hoteles de Tenerife que se encuentran registrados en la página, se encuentra justo en el centro de la página dónde se encuentra el link al que se puede acceder a toda la información de cada hotel.\n",
    "\n",
    "**3)** Al apretar justo en el centro de la página cambia la URL. Por tanto se deben de simular los clicks con Selenium para poder acceder a las URL de los distintos hoteles de Tenerife. \n",
    "\n",
    "**4)** Comparando la URL con la de otros hoteles, se puede deducir que lo único que cambia de las URL, además del nombre de los distintos hoteles, es el número de habitaciones, personas por habitación, etc. \n",
    "\n",
    "**5)** Clickeando cada link a la especificación de cada hotel que se encuentra registrado en la página, se puede concluir que la información relevante de cada hotel se encuentra al comienzo de la página accedida en cada link, justo se encuentra en la parte central de la pantalla y en la parte superior, es por ello, que a partir de esto se puede obtener la información necesaria para cada hotel de Tenerife.\n",
    "\n",
    "**6)** La cadena por tanto será la siguiente: \n",
    "\n",
    "    a) Abrir la página de cada hotel de Tenerife. \n",
    "\n",
    "    b) Obtener la información que se encuentra en la parte central de la pantalla en la zona superior de la página sin hacer scroll.\n",
    "\n",
    "    c) Copiar las cadenas de texto que se encuentran en este cuadro de información central de cada hotel.\n",
    "    \n",
    "    d) Repetir el proceso hasta tener almacenada toda la información de cada hotel que se encuentre registrado en la página web Booking.\n"
   ]
  }
 ],
 "metadata": {
  "language_info": {
   "name": "python"
  },
  "orig_nbformat": 4
 },
 "nbformat": 4,
 "nbformat_minor": 2
}

{
  "cells": [
    {
      "cell_type": "markdown",
      "metadata": {
        "colab_type": "text",
        "id": "view-in-github"
      },
      "source": [
        "<a href=\"https://colab.research.google.com/github/Samuelmm15/Python_Curso/blob/main/Fundamentos_Python_Samuel_Martin.ipynb\" target=\"_parent\"><img src=\"https://colab.research.google.com/assets/colab-badge.svg\" alt=\"Open In Colab\"/></a>"
      ]
    },
    {
      "cell_type": "markdown",
      "metadata": {
        "id": "L03Y8IQLnSTC"
      },
      "source": [
        "Nombre y apellidos: Samuel Martín Morales\n",
        "Correo: alu0101359526@ull.edu.es\n",
        "Primera sesión Curso Python"
      ]
    },
    {
      "cell_type": "code",
      "execution_count": 4,
      "metadata": {
        "colab": {
          "base_uri": "https://localhost:8080/"
        },
        "id": "lT4Gh_YDmvWR",
        "outputId": "97844a88-0e35-45b9-dc8f-1224efcb81b4"
      },
      "outputs": [
        {
          "name": "stdout",
          "output_type": "stream",
          "text": [
            "Hola Mundo\n"
          ]
        }
      ],
      "source": [
        "print(\"Hola Mundo\")"
      ]
    },
    {
      "cell_type": "code",
      "execution_count": 5,
      "metadata": {
        "colab": {
          "base_uri": "https://localhost:8080/"
        },
        "id": "ftz9CXs8oZdK",
        "outputId": "0b6eb445-1949-4c9d-a433-ca36462654e5"
      },
      "outputs": [
        {
          "name": "stdout",
          "output_type": "stream",
          "text": [
            "2\n",
            "Hola\n"
          ]
        }
      ],
      "source": [
        "print(2)\n",
        "print(\"Hola\")"
      ]
    },
    {
      "cell_type": "code",
      "execution_count": 6,
      "metadata": {
        "colab": {
          "base_uri": "https://localhost:8080/"
        },
        "id": "SVzZ1NO7oimb",
        "outputId": "81d6f207-67b5-45e2-8d4e-dc64b7c9b934"
      },
      "outputs": [
        {
          "name": "stdout",
          "output_type": "stream",
          "text": [
            "Hola, me llamo Samuel\n"
          ]
        }
      ],
      "source": [
        "print(\"Hola, me llamo Samuel\")"
      ]
    },
    {
      "cell_type": "code",
      "execution_count": 7,
      "metadata": {
        "id": "tc8BAFPno9up"
      },
      "outputs": [
        {
          "name": "stdout",
          "output_type": "stream",
          "text": [
            "Condicional\n"
          ]
        }
      ],
      "source": [
        "if 5 > 2:   # para el uso de if, se debe de poner de esta manera\n",
        "  print(\"Condicional\")"
      ]
    },
    {
      "cell_type": "code",
      "execution_count": 8,
      "metadata": {
        "colab": {
          "base_uri": "https://localhost:8080/"
        },
        "id": "b-Ku1nuFqFqe",
        "outputId": "a8bf5eac-8384-4b9b-ac9f-1379c2e9729d"
      },
      "outputs": [
        {
          "name": "stdout",
          "output_type": "stream",
          "text": [
            "5\n",
            "Hola Mundo\n",
            "2.8\n",
            "True\n",
            "False\n"
          ]
        }
      ],
      "source": [
        "x = 5\n",
        "y = \"Hola Mundo\"\n",
        "z = 2.8\n",
        "w = True  # Hay que tener en cuenta que se debe de poner en mayúsculas\n",
        "m = False\n",
        "\n",
        "print(x)\n",
        "print(y)\n",
        "print(z)\n",
        "print(w)\n",
        "print(m)"
      ]
    },
    {
      "cell_type": "markdown",
      "metadata": {
        "id": "5261gjIcq_0U"
      },
      "source": [
        "El f-string permite usar variables dentro de una cadena de texto que es llamada \n",
        "dentro de print. Es decir, es similar a cout << \"El mensaje es\" << mensaje << endl; en c++"
      ]
    },
    {
      "cell_type": "code",
      "execution_count": 9,
      "metadata": {
        "colab": {
          "base_uri": "https://localhost:8080/"
        },
        "id": "-uC0tf-SrUzP",
        "outputId": "c9657548-8452-4ccf-f2cf-4ce35786369b"
      },
      "outputs": [
        {
          "name": "stdout",
          "output_type": "stream",
          "text": [
            "El mensaje es 2\n"
          ]
        }
      ],
      "source": [
        "mensaje = 2\n",
        "print(f\"El mensaje es {mensaje}\")"
      ]
    },
    {
      "cell_type": "markdown",
      "metadata": {
        "id": "DtvWh7WGsJK9"
      },
      "source": [
        "Ejemplo de uso de de funciones para las cadenas en python"
      ]
    },
    {
      "cell_type": "code",
      "execution_count": 10,
      "metadata": {
        "colab": {
          "base_uri": "https://localhost:8080/"
        },
        "id": "AcOt-bWSsR5I",
        "outputId": "ae81ff62-4417-49f7-9e72-c2b4e6d38b54"
      },
      "outputs": [
        {
          "name": "stdout",
          "output_type": "stream",
          "text": [
            "PYTHON\n",
            "python\n"
          ]
        }
      ],
      "source": [
        "cadena_ejemplo = \"pytHon\"\n",
        "cadena_mayus = cadena_ejemplo.upper()\n",
        "cadena_minus = cadena_ejemplo.lower()\n",
        "\n",
        "print(cadena_mayus)\n",
        "print(cadena_minus)"
      ]
    },
    {
      "cell_type": "markdown",
      "metadata": {
        "id": "pjfmiLOcsq5Q"
      },
      "source": [
        "Ejemplo:"
      ]
    },
    {
      "cell_type": "code",
      "execution_count": 11,
      "metadata": {
        "colab": {
          "base_uri": "https://localhost:8080/"
        },
        "id": "K9rBYboPssrk",
        "outputId": "629e4d62-5935-469a-94e3-e18bc388be53"
      },
      "outputs": [
        {
          "name": "stdout",
          "output_type": "stream",
          "text": [
            "6\n"
          ]
        }
      ],
      "source": [
        "print(len(cadena_ejemplo)) # Con la función len se puede contar el número de caracteres de una cadena\n",
        "# Hay que tener en cuenta que las variables creadas anteriormente se guardan entre celdas"
      ]
    },
    {
      "cell_type": "markdown",
      "metadata": {
        "id": "MBXUExPrtJqq"
      },
      "source": [
        "Ejemplo para acceder a determinado caracter de una cadena"
      ]
    },
    {
      "cell_type": "code",
      "execution_count": 12,
      "metadata": {
        "colab": {
          "base_uri": "https://localhost:8080/"
        },
        "id": "8SF-SINAtTSA",
        "outputId": "6b050384-f477-4ab5-e9c2-dbbc4c8bbe14"
      },
      "outputs": [
        {
          "name": "stdout",
          "output_type": "stream",
          "text": [
            "p\n",
            "H\n"
          ]
        }
      ],
      "source": [
        "print(cadena_ejemplo[0])\n",
        "print(cadena_ejemplo[3])"
      ]
    },
    {
      "cell_type": "markdown",
      "metadata": {
        "id": "gsxTmq5RuMqz"
      },
      "source": [
        "Ejemplo para entregar de nuestro propio nombre"
      ]
    },
    {
      "cell_type": "code",
      "execution_count": 13,
      "metadata": {
        "colab": {
          "base_uri": "https://localhost:8080/"
        },
        "id": "vwbhi8a9uUBw",
        "outputId": "ee953bcf-0c35-4b1c-b13e-6cf70aefdc1e"
      },
      "outputs": [
        {
          "name": "stdout",
          "output_type": "stream",
          "text": [
            "samuel\n",
            "Samuel\n",
            "6\n"
          ]
        }
      ],
      "source": [
        "mi_nombre = \"samuel\"\n",
        "mi_nombre_mayus = mi_nombre.capitalize()  # La función capitalize, sirve para poder poner en mayúscula el primer símbolo de la cadena\n",
        "\n",
        "print(mi_nombre)\n",
        "print(mi_nombre_mayus)\n",
        "print(len(mi_nombre))"
      ]
    },
    {
      "cell_type": "markdown",
      "metadata": {
        "id": "ThYSqY_gvsQ7"
      },
      "source": [
        "Concatenación de cadenas en python y\n",
        "suma de dos variables"
      ]
    },
    {
      "cell_type": "code",
      "execution_count": 14,
      "metadata": {
        "colab": {
          "base_uri": "https://localhost:8080/"
        },
        "id": "Nli2xxJ5v4EH",
        "outputId": "8af4c75d-8fb0-40b6-cfc7-c6d5b0168302"
      },
      "outputs": [
        {
          "name": "stdout",
          "output_type": "stream",
          "text": [
            "samuelpytHon\n",
            "7.8\n"
          ]
        }
      ],
      "source": [
        "concatenacion = mi_nombre + cadena_ejemplo\n",
        "flotante = x + z  # se pueden sumar números enteros con números flotantes y como resultado python convierte el resultado a flotante porque tiene más presición y por tanto se puede sumar un entero con un flotante\n",
        "\n",
        "print(concatenacion)\n",
        "print(flotante)"
      ]
    },
    {
      "cell_type": "markdown",
      "metadata": {
        "id": "QBmRxSw5wnSm"
      },
      "source": [
        "Ejercicio de crear tres variables y sumarlas para imprimir por pantalla"
      ]
    },
    {
      "cell_type": "code",
      "execution_count": 15,
      "metadata": {
        "colab": {
          "base_uri": "https://localhost:8080/"
        },
        "id": "FdErH-SHwpRg",
        "outputId": "02f96a32-231e-4b96-9d9c-4a20d1c8668c"
      },
      "outputs": [
        {
          "name": "stdout",
          "output_type": "stream",
          "text": [
            "Suma: 6\n"
          ]
        }
      ],
      "source": [
        "i = 1 \n",
        "j = 2\n",
        "k = 3\n",
        "\n",
        "l = i + j + k\n",
        "\n",
        "print(f\"Suma: {l}\")"
      ]
    },
    {
      "cell_type": "markdown",
      "metadata": {
        "id": "K8usK8S1xW1Y"
      },
      "source": [
        "Ejercicio de realizar la resta de tres variables"
      ]
    },
    {
      "cell_type": "code",
      "execution_count": 16,
      "metadata": {
        "colab": {
          "base_uri": "https://localhost:8080/"
        },
        "id": "FNy7KhXPxa2D",
        "outputId": "5d72fd00-c1f2-4918-b31d-db171bb8cc7c"
      },
      "outputs": [
        {
          "name": "stdout",
          "output_type": "stream",
          "text": [
            "Resta: -4\n"
          ]
        }
      ],
      "source": [
        "l = i - j - k   # Hago uso de las variables anteriormente creadas \n",
        "\n",
        "print(f\"Resta: {l}\")"
      ]
    },
    {
      "cell_type": "markdown",
      "metadata": {
        "id": "s2xF0tkZxmwQ"
      },
      "source": [
        "Crear dos variables x e y y mostrar el resultado de su división por pantalla"
      ]
    },
    {
      "cell_type": "code",
      "execution_count": 17,
      "metadata": {
        "colab": {
          "base_uri": "https://localhost:8080/"
        },
        "id": "JdgqBSDDx59f",
        "outputId": "5add3a6b-5013-4b69-b4e1-3bb4bc8bab2a"
      },
      "outputs": [
        {
          "name": "stdout",
          "output_type": "stream",
          "text": [
            "División: 1.3333333333333333\n"
          ]
        }
      ],
      "source": [
        "x = 4\n",
        "y = 3\n",
        "\n",
        "z = x / y\n",
        "\n",
        "print(f\"División: {z}\")"
      ]
    },
    {
      "cell_type": "markdown",
      "metadata": {
        "id": "xaPAV5-Uyd8X"
      },
      "source": [
        "Crear dos variables x e y y mostrar el resultado de su multiplicación por pantalla"
      ]
    },
    {
      "cell_type": "code",
      "execution_count": 18,
      "metadata": {
        "colab": {
          "base_uri": "https://localhost:8080/"
        },
        "id": "cNojc_hZyeaW",
        "outputId": "65bcbc63-890f-4435-a946-64c4316ab872"
      },
      "outputs": [
        {
          "name": "stdout",
          "output_type": "stream",
          "text": [
            "Multiplicación: 12\n"
          ]
        }
      ],
      "source": [
        "z = x * y\n",
        "\n",
        "print(f\"Multiplicación: {z}\")"
      ]
    },
    {
      "cell_type": "markdown",
      "metadata": {
        "id": "xAWs0PHGzAKO"
      },
      "source": [
        "Obtener el módulo"
      ]
    },
    {
      "cell_type": "code",
      "execution_count": 19,
      "metadata": {
        "colab": {
          "base_uri": "https://localhost:8080/"
        },
        "id": "2-e18oB2zG-v",
        "outputId": "1f728ae1-be0c-498d-bac5-aae6f8aa46d5"
      },
      "outputs": [
        {
          "name": "stdout",
          "output_type": "stream",
          "text": [
            "Módulo: 1\n"
          ]
        }
      ],
      "source": [
        "z = x % y\n",
        "\n",
        "print(f\"Módulo: {z}\")"
      ]
    },
    {
      "cell_type": "markdown",
      "metadata": {
        "id": "-1g59Ib9zHlK"
      },
      "source": [
        "Obtener la potencia"
      ]
    },
    {
      "cell_type": "code",
      "execution_count": 20,
      "metadata": {
        "colab": {
          "base_uri": "https://localhost:8080/"
        },
        "id": "oR1TU1C5zJqC",
        "outputId": "d947dab2-7b92-49e8-9249-44cd6df59fb3"
      },
      "outputs": [
        {
          "name": "stdout",
          "output_type": "stream",
          "text": [
            "Potencia: 64\n"
          ]
        }
      ],
      "source": [
        "z = x ** y\n",
        "\n",
        "print(f\"Potencia: {z}\")"
      ]
    },
    {
      "cell_type": "markdown",
      "metadata": {
        "id": "XSSjO5USzm9-"
      },
      "source": [
        "\n",
        "\n",
        "*   La función float sirve para convertir un entero a flotante\n",
        "*   La función int sirve para convertir un flotante en un entero\n",
        "*   La función str sirve para convertir en cadena una variable\n",
        "*   La función type devuelve el tipo de dato del que se trata una variable\n",
        "\n",
        "\n",
        "\n"
      ]
    },
    {
      "cell_type": "markdown",
      "metadata": {
        "id": "mQY98trk2AIi"
      },
      "source": [
        "\n",
        "\n",
        "*   En python, se puede usar \"and\" para poner varias condiciones dentro de un if, es similar a && en c++\n",
        "*   También, se puede hacer uso de \"or\" para poner varias condiciones dentro de un if, es similar a || en c++\n",
        "\n"
      ]
    },
    {
      "cell_type": "markdown",
      "metadata": {
        "id": "_OHvcuxE2ZHZ"
      },
      "source": [
        "Crear dos variables y mostrar por pantalla si un valor es mayor que otro"
      ]
    },
    {
      "cell_type": "code",
      "execution_count": 21,
      "metadata": {
        "colab": {
          "base_uri": "https://localhost:8080/"
        },
        "id": "E7brRfbq2hB4",
        "outputId": "300a6d36-0a86-46a7-f860-07a56c935b33"
      },
      "outputs": [
        {
          "name": "stdout",
          "output_type": "stream",
          "text": [
            "El valor de x es mayor que y, x tiene el valor de 7 e y tiene el valor de 0\n"
          ]
        }
      ],
      "source": [
        "x = 7\n",
        "y = 0\n",
        "\n",
        "if x > y and y != 1:  # Esto es una prueba de los operadores and y or\n",
        "  print(f\"El valor de x es mayor que y, x tiene el valor de {x} e y tiene el valor de {y}\")"
      ]
    },
    {
      "cell_type": "markdown",
      "metadata": {
        "id": "VSdo6sE_3RcO"
      },
      "source": [
        "Generar que el código entre a un elif"
      ]
    },
    {
      "cell_type": "code",
      "execution_count": 22,
      "metadata": {
        "colab": {
          "base_uri": "https://localhost:8080/"
        },
        "id": "UfsXfX1k3aDx",
        "outputId": "2e208a02-f3b7-4854-bf9e-b00af856d675"
      },
      "outputs": [
        {
          "name": "stdout",
          "output_type": "stream",
          "text": [
            "El valor de x es mayor que el de y\n"
          ]
        }
      ],
      "source": [
        "if x < y:\n",
        "  print(\"El valor de x es menor que el de y\")\n",
        "elif x > y:\n",
        "  print (\"El valor de x es mayor que el de y\")\n"
      ]
    },
    {
      "cell_type": "markdown",
      "metadata": {
        "id": "BhoIt4qV4oAI"
      },
      "source": [
        "Uso de los rangos en python"
      ]
    },
    {
      "cell_type": "code",
      "execution_count": 23,
      "metadata": {
        "colab": {
          "base_uri": "https://localhost:8080/"
        },
        "id": "09l5Od5J4r7A",
        "outputId": "06066b30-b567-46a9-d343-bf49d1240f60"
      },
      "outputs": [
        {
          "data": {
            "text/plain": [
              "range(10, 101, 5)"
            ]
          },
          "execution_count": 23,
          "metadata": {},
          "output_type": "execute_result"
        }
      ],
      "source": [
        "range(10,101,5)   # Con este tipo de función se puede crear un rango de valores junto con sus pasos\n",
        "# Se pone 101 para que se encluya el valor 100"
      ]
    },
    {
      "cell_type": "markdown",
      "metadata": {
        "id": "u0RIz25Z5las"
      },
      "source": [
        "Uso del bucle for en python"
      ]
    },
    {
      "cell_type": "code",
      "execution_count": 24,
      "metadata": {
        "colab": {
          "base_uri": "https://localhost:8080/"
        },
        "id": "PQn6UH_y5pmc",
        "outputId": "c760c80b-28b3-4f14-a6f1-3d5c781415a3"
      },
      "outputs": [
        {
          "name": "stdout",
          "output_type": "stream",
          "text": [
            "10\n",
            "15\n",
            "20\n",
            "25\n",
            "30\n",
            "35\n",
            "40\n",
            "45\n",
            "50\n",
            "55\n",
            "60\n",
            "65\n",
            "70\n",
            "75\n",
            "80\n",
            "85\n",
            "90\n",
            "95\n",
            "100\n"
          ]
        }
      ],
      "source": [
        "for i in range(10,101,5):\n",
        "  print(i)"
      ]
    },
    {
      "cell_type": "markdown",
      "metadata": {
        "id": "PvGEDL9y52Pp"
      },
      "source": [
        "Crear un bucle for de rango 2 al 15"
      ]
    },
    {
      "cell_type": "code",
      "execution_count": 25,
      "metadata": {
        "colab": {
          "base_uri": "https://localhost:8080/"
        },
        "id": "3ktRJmPp5558",
        "outputId": "3742d558-5325-4850-e3d7-fb00f4042b5d"
      },
      "outputs": [
        {
          "name": "stdout",
          "output_type": "stream",
          "text": [
            "2\n",
            "3\n",
            "4\n",
            "5\n",
            "6\n",
            "7\n",
            "8\n",
            "9\n",
            "10\n",
            "11\n",
            "12\n",
            "13\n",
            "14\n"
          ]
        }
      ],
      "source": [
        "for n in range(2,15,1):\n",
        "  print(n)"
      ]
    },
    {
      "cell_type": "markdown",
      "metadata": {
        "id": "DM9Hu8V76XvC"
      },
      "source": [
        "Uso del bucle while en python"
      ]
    },
    {
      "cell_type": "code",
      "execution_count": 26,
      "metadata": {
        "colab": {
          "base_uri": "https://localhost:8080/"
        },
        "id": "d35eDyb06lo9",
        "outputId": "6f9aaeb4-5c1d-45c8-cc43-ebd4d1c89e9c"
      },
      "outputs": [
        {
          "name": "stdout",
          "output_type": "stream",
          "text": [
            "1\n",
            "2\n",
            "3\n",
            "4\n",
            "5\n",
            "6\n",
            "7\n",
            "8\n",
            "9\n"
          ]
        }
      ],
      "source": [
        "x = 1\n",
        "\n",
        "while x < 10:\n",
        "  print(x)\n",
        "  x += 1  # Esto es similar a x++ en c++"
      ]
    },
    {
      "cell_type": "markdown",
      "metadata": {
        "id": "AkDlvfAP7Ppe"
      },
      "source": [
        "Ejercicio: se tiene una variable contador que valga 10  y que se ejecute mientras sea mayor que cero"
      ]
    },
    {
      "cell_type": "code",
      "execution_count": 27,
      "metadata": {
        "colab": {
          "base_uri": "https://localhost:8080/"
        },
        "id": "9UjUfpkE7e4J",
        "outputId": "29beae33-176a-4bff-8a75-de779a5ae659"
      },
      "outputs": [
        {
          "name": "stdout",
          "output_type": "stream",
          "text": [
            "10\n",
            "9\n",
            "8\n",
            "7\n",
            "6\n",
            "5\n",
            "4\n",
            "3\n",
            "2\n",
            "1\n"
          ]
        }
      ],
      "source": [
        "contador = 10\n",
        "  \n",
        "while contador > 0:\n",
        "    print(contador)\n",
        "    contador -= 1\n"
      ]
    },
    {
      "cell_type": "markdown",
      "metadata": {
        "id": "BcJ8ORY584Bq"
      },
      "source": [
        "Ejercicio 2"
      ]
    },
    {
      "cell_type": "code",
      "execution_count": 28,
      "metadata": {
        "colab": {
          "base_uri": "https://localhost:8080/"
        },
        "id": "HxqW_keu86UA",
        "outputId": "287b2f91-9d4a-4f9b-931f-ce73b97980c1"
      },
      "outputs": [
        {
          "name": "stdout",
          "output_type": "stream",
          "text": [
            "553.65\n"
          ]
        }
      ],
      "source": [
        "x = 10.5\n",
        "y = 43.2\n",
        "z = -5.7\n",
        "\n",
        "w = (x ** 2) + (10 * y) - (2 * z)\n",
        "\n",
        "print(w)"
      ]
    },
    {
      "cell_type": "markdown",
      "metadata": {
        "id": "2J8z9l9n861p"
      },
      "source": [
        "Ejercicio 3"
      ]
    },
    {
      "cell_type": "code",
      "execution_count": 29,
      "metadata": {
        "colab": {
          "base_uri": "https://localhost:8080/"
        },
        "id": "r2T3Miac88h4",
        "outputId": "847cfd50-1253-43ef-a312-7a87584e2f8f"
      },
      "outputs": [
        {
          "name": "stdout",
          "output_type": "stream",
          "text": [
            "8\n",
            "16\n",
            "24\n",
            "32\n",
            "40\n",
            "48\n",
            "56\n",
            "64\n",
            "72\n",
            "80\n"
          ]
        }
      ],
      "source": [
        "tabla_multiplicar = 8\n",
        "\n",
        "for i in range(1,11):\n",
        "  result = tabla_multiplicar * i\n",
        "  print(result)"
      ]
    }
  ],
  "metadata": {
    "colab": {
      "authorship_tag": "ABX9TyOnsf8zuvwj/k8bxBT8W5vL",
      "include_colab_link": true,
      "name": "Fundamentos_Python_Samuel_Martin.ipynb",
      "provenance": []
    },
    "interpreter": {
      "hash": "31f2aee4e71d21fbe5cf8b01ff0e069b9275f58929596ceb00d14d90e3e16cd6"
    },
    "kernelspec": {
      "display_name": "Python 3.6.9 64-bit",
      "name": "python3"
    },
    "language_info": {
      "codemirror_mode": {
        "name": "ipython",
        "version": 3
      },
      "file_extension": ".py",
      "mimetype": "text/x-python",
      "name": "python",
      "nbconvert_exporter": "python",
      "pygments_lexer": "ipython3",
      "version": "3.6.9"
    }
  },
  "nbformat": 4,
  "nbformat_minor": 0
}

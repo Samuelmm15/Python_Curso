{
 "cells": [
  {
   "cell_type": "markdown",
   "metadata": {},
   "source": [
    "Nombre: Samuel\\\n",
    "Apellidos: Martín Morales\\\n",
    "Correo: alu0101359526@ull.edu.es"
   ]
  },
  {
   "cell_type": "markdown",
   "metadata": {},
   "source": [
    "Escribir un programa en Python que a partir del valor numérico almacenado en una variable n,\\\n",
    "muestre por pantalla n!\\\n",
    "Nota: Implementar una versión usando un bucle for y otra usando un bucle while"
   ]
  },
  {
   "cell_type": "code",
   "execution_count": 2,
   "metadata": {},
   "outputs": [
    {
     "name": "stdout",
     "output_type": "stream",
     "text": [
      "Introduzca por teclado el valor de la variable n:\n",
      "El factorial de 10 es: 3628800\n"
     ]
    }
   ],
   "source": [
    "print(\"Introduzca por teclado el valor de la variable n:\")\n",
    "v_n = input()\n",
    "\n",
    "v_n = int(v_n) # Conversión a entero\n",
    "\n",
    "result = 1  # Declaramos anteriormente la variable resultado\n",
    "\n",
    "# Implementación con un bucle for\n",
    "for i in range(1,v_n + 1,1):\n",
    "    result = result * i\n",
    "\n",
    "print(f\"El factorial de {v_n} es: {result}\")"
   ]
  },
  {
   "cell_type": "code",
   "execution_count": 3,
   "metadata": {},
   "outputs": [
    {
     "name": "stdout",
     "output_type": "stream",
     "text": [
      "Introduzca por teclado el valor de la variable n:\n",
      "El factorial de 10 es: 3628800\n"
     ]
    }
   ],
   "source": [
    "print(\"Introduzca por teclado el valor de la variable n:\")\n",
    "v_n = input()\n",
    "\n",
    "v_n = int(v_n) # Conversión a entero\n",
    "\n",
    "result = 1  # Declaramos anteriormente la variable resultado\n",
    "\n",
    "auxiliary = 1   # Declaración de una variable contador\n",
    "\n",
    "# Implementación con un bucle while\n",
    "while auxiliary != (v_n + 1):\n",
    "    result = result * auxiliary\n",
    "    auxiliary += 1\n",
    "\n",
    "print(f\"El factorial de {v_n} es: {result}\")\n",
    "\n"
   ]
  }
 ],
 "metadata": {
  "interpreter": {
   "hash": "31f2aee4e71d21fbe5cf8b01ff0e069b9275f58929596ceb00d14d90e3e16cd6"
  },
  "kernelspec": {
   "display_name": "Python 3.6.9 64-bit",
   "name": "python3"
  },
  "language_info": {
   "codemirror_mode": {
    "name": "ipython",
    "version": 3
   },
   "file_extension": ".py",
   "mimetype": "text/x-python",
   "name": "python",
   "nbconvert_exporter": "python",
   "pygments_lexer": "ipython3",
   "version": "3.6.9"
  },
  "orig_nbformat": 4
 },
 "nbformat": 4,
 "nbformat_minor": 2
}

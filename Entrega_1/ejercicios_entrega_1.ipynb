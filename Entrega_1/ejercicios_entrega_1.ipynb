{
 "cells": [
  {
   "cell_type": "markdown",
   "metadata": {},
   "source": [
    "Nombre: Samuel\\\n",
    "Apellidos: Martín Morales\\\n",
    "Correo: alu0101359526@ull.edu.es"
   ]
  },
  {
   "cell_type": "markdown",
   "metadata": {},
   "source": [
    "Ejercicio 1:\\\n",
    "Escriba un programa en Python que muestre por pantalla, en orden inverso y en líneas independientes,\\\n",
    "los números comprendidos entre 0 y n, donde n será un números entero positivo almacenado en una variable."
   ]
  },
  {
   "cell_type": "code",
   "execution_count": 11,
   "metadata": {},
   "outputs": [
    {
     "name": "stdout",
     "output_type": "stream",
     "text": [
      "Introduzca un número entero positivo por teclado: \n",
      "Los números comprendidos entre 0 y 5 de manera inversa son:\n",
      "5\n",
      "4\n",
      "3\n",
      "2\n",
      "1\n",
      "0\n"
     ]
    }
   ],
   "source": [
    "print(\"Introduzca un número entero positivo por teclado: \")\n",
    "v_n = input()\n",
    "\n",
    "v_n = int(v_n)  # Se debe de convertir la variable a formato entero debido a que cuando se solicita por pantalla el valor, la varible es de tipo string\n",
    "\n",
    "print(f\"Los números comprendidos entre 0 y {v_n} de manera inversa son:\")\n",
    "while v_n >= 0:\n",
    "    print(v_n)\n",
    "    v_n -= 1"
   ]
  },
  {
   "cell_type": "markdown",
   "metadata": {},
   "source": [
    "Ejercicio 2:\\\n",
    "Implemente un programa en Python que dados dos enteros n y m (almacenados en dos variables),\\\n",
    "calcule el sumatorio de todos los números pares comprendidos entre ellos."
   ]
  },
  {
   "cell_type": "code",
   "execution_count": 17,
   "metadata": {},
   "outputs": [
    {
     "name": "stdout",
     "output_type": "stream",
     "text": [
      "Introduza el valor de la variable n por teclado:\n",
      "Introduzca el valor de la variable m por teclado:\n",
      "El resultado final del sumatorio de los números pares comprendidos entre 0 y 10 es: 30\n"
     ]
    }
   ],
   "source": [
    "print(\"Introduza el valor de la variable n por teclado:\")\n",
    "v_n = input()\n",
    "\n",
    "v_n = int(v_n)  # Conversión a entero\n",
    "\n",
    "print(\"Introduzca el valor de la variable m por teclado:\")\n",
    "v_m = input()\n",
    "\n",
    "v_m = int(v_m)  # Conversión a entero\n",
    "\n",
    "summation = 0   # Declaración de la variable sumatorio con anterioridad\n",
    "\n",
    "for i in range(v_n,v_m + 1,1):\n",
    "    result = i % 2\n",
    "    if result == 0:\n",
    "        summation = summation + i\n",
    "\n",
    "print(f\"El resultado final del sumatorio de los números pares comprendidos entre {v_n} y {v_m} es: {summation}\")\n",
    "\n",
    "\n",
    "\n"
   ]
  },
  {
   "cell_type": "markdown",
   "metadata": {},
   "source": [
    "Ejercicio 3:\\\n",
    "Implemente un programa en Python que recorra todos los números comprendidos entre n y m\\\n",
    "(almacenados en dos variables) en orden inverso, y reste el valor 1000000 almacenado en\\\n",
    "una variable con nombre restante todos los números divisibles entre 3 comprendidos entre ellos."
   ]
  },
  {
   "cell_type": "code",
   "execution_count": 22,
   "metadata": {},
   "outputs": [
    {
     "name": "stdout",
     "output_type": "stream",
     "text": [
      "Introduza el valor de la variable n por teclado:\n",
      "Introduzca el valor de la variable m por teclado:\n",
      "10\n",
      "-999991\n",
      "8\n",
      "7\n",
      "-999994\n",
      "5\n",
      "4\n",
      "-999997\n",
      "2\n",
      "1\n",
      "-1000000\n"
     ]
    }
   ],
   "source": [
    "remaining = 1000000\n",
    "\n",
    "print(\"Introduza el valor de la variable n por teclado:\")\n",
    "v_n = input()\n",
    "\n",
    "v_n = int(v_n)  # Conversión a entero\n",
    "\n",
    "print(\"Introduzca el valor de la variable m por teclado:\")\n",
    "v_m = input()\n",
    "\n",
    "v_m = int(v_m)  # Conversión a entero\n",
    "\n",
    "for i in range(v_m,v_n - 1,-1): # Para poder hacer esto, debemos de suponer que la variable v_m siempre es mayor que la variable v_n\n",
    "    result = i % 3\n",
    "    if result == 0:\n",
    "        i = i - remaining\n",
    "    print(i)"
   ]
  }
 ],
 "metadata": {
  "interpreter": {
   "hash": "31f2aee4e71d21fbe5cf8b01ff0e069b9275f58929596ceb00d14d90e3e16cd6"
  },
  "kernelspec": {
   "display_name": "Python 3.6.9 64-bit",
   "name": "python3"
  },
  "language_info": {
   "codemirror_mode": {
    "name": "ipython",
    "version": 3
   },
   "file_extension": ".py",
   "mimetype": "text/x-python",
   "name": "python",
   "nbconvert_exporter": "python",
   "pygments_lexer": "ipython3",
   "version": "3.6.9"
  },
  "orig_nbformat": 4
 },
 "nbformat": 4,
 "nbformat_minor": 2
}

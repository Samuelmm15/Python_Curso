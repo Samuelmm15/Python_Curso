{
 "cells": [
  {
   "cell_type": "markdown",
   "metadata": {},
   "source": [
    "Nombre: Samuel\\\n",
    "Apellidos: Martín Morales\\\n",
    "Correo: alu0101359526@ull.edu.es"
   ]
  },
  {
   "cell_type": "markdown",
   "metadata": {},
   "source": [
    "Ejercicio 1: Crear una función en Python que sea capaz de devolver la codificación RGB de un en notación hexadecimal.\\\n",
    "La función recibirá como parámetro una cadena de texto con el valor del color en la notación hexadecimal y\\\n",
    "deberá devolver un diccionario con las claves r, g y b y los correspondientes valores de cada componente. "
   ]
  },
  {
   "cell_type": "code",
   "execution_count": null,
   "metadata": {},
   "outputs": [],
   "source": [
    "def rgb_fuction(rgb_value):     # Comprobar como convertir los valores pasados por teclado de hexadecimal a decimal\n",
    "    exit\n",
    "\n",
    "rgb_diccionary = {  # Declaración del diccionario\n",
    "}\n",
    "\n",
    "print(\"Introduzca el valor del rgb el cual quiere conocer sus valores: \")\n",
    "rgb_hexadecimal = input()\n",
    "\n"
   ]
  }
 ],
 "metadata": {
  "interpreter": {
   "hash": "31f2aee4e71d21fbe5cf8b01ff0e069b9275f58929596ceb00d14d90e3e16cd6"
  },
  "kernelspec": {
   "display_name": "Python 3.6.9 64-bit",
   "language": "python",
   "name": "python3"
  },
  "language_info": {
   "name": "python",
   "version": "3.6.9"
  },
  "orig_nbformat": 4
 },
 "nbformat": 4,
 "nbformat_minor": 2
}
